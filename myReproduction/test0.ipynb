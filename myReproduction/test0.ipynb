{
 "cells": [
  {
   "cell_type": "code",
   "execution_count": 2,
   "metadata": {},
   "outputs": [],
   "source": [
    "import torch\n",
    "import numpy as np\n",
    "import torch.nn as nn"
   ]
  },
  {
   "cell_type": "code",
   "execution_count": null,
   "metadata": {},
   "outputs": [],
   "source": [
    "a = [[1,2,3],[4,5,6],[7,8,9]]\n",
    "c = torch.tensor(a)\n",
    "b = torch.tensor([[9,8,7],[6,5,4],[3,2,1]])\n",
    "# concatenate\n",
    "c = torch.cat((c[None, :, :],b[None, :, :]),0)\n",
    "print(c)\n",
    "print(c.shape)\n",
    "c = torch.cat((c,b[None, :, :]),0)\n",
    "print(c)\n",
    "print(c.shape)\n",
    "d = torch.tensor([])\n",
    "d = torch.cat((d, b[None, :, :]),0)\n",
    "print(d)\n",
    "\n",
    "e = 1\n",
    "np.repeat(e, 3)\n",
    "\n",
    "class Net(nn.Module):\n",
    "    def __init__(self):\n",
    "        super(Net, self).__init__()\n",
    "    def forward(self, x, y):\n",
    "        x = x * y\n",
    "        return x\n",
    "\n",
    "net = Net()\n",
    "net(2,3)"
   ]
  },
  {
   "cell_type": "code",
   "execution_count": 4,
   "metadata": {},
   "outputs": [
    {
     "name": "stdout",
     "output_type": "stream",
     "text": [
      "tensor([[1],\n",
      "        [2],\n",
      "        [3],\n",
      "        [4]])\n",
      "tensor([1, 2, 3, 4])\n",
      "__________\n",
      "tensor([[[[[2, 3, 4, 5, 3, 4, 5, 6, 4, 5, 6, 7, 5, 6, 7, 8]]],\n",
      "\n",
      "\n",
      "         [[[0, 0, 0, 0, 0, 0, 0, 0, 0, 0, 0, 0, 0, 0, 0, 0]]],\n",
      "\n",
      "\n",
      "         [[[0, 0, 0, 0, 0, 0, 0, 0, 0, 0, 0, 0, 0, 0, 0, 0]]]]])\n"
     ]
    },
    {
     "data": {
      "text/plain": [
       "tensor([[ 0.8415],\n",
       "        [ 0.9093],\n",
       "        [ 0.1411],\n",
       "        [-0.7568]])"
      ]
     },
     "execution_count": 4,
     "metadata": {},
     "output_type": "execute_result"
    }
   ],
   "source": [
    "y = torch.tensor([1,2,3,4])\n",
    "x = y[:, None]\n",
    "z = torch.tensor([[1,1],[0,0],[0,0]])[None,...]\n",
    "z_tmp = z[..., None, None, :]\n",
    "*O, D = z_tmp.shape\n",
    "# xz = z[...,0]*x\n",
    "# yz = z[...,1]*y\n",
    "print(x)\n",
    "print(y)\n",
    "# print(z)\n",
    "# print('z_tmp=', z_tmp)\n",
    "# print(xz)\n",
    "# print(yz)\n",
    "# print(xz+yz)\n",
    "print('__________')\n",
    "xz_tmp = z_tmp[...,0]*x\n",
    "yz_tmp = z_tmp[...,1]*y\n",
    "rslt = xz_tmp+yz_tmp\n",
    "rslt = rslt.view(*O, -1)\n",
    "# print(xz_tmp)\n",
    "# print(yz_tmp)\n",
    "print(rslt)\n",
    "x.sin()"
   ]
  },
  {
   "cell_type": "code",
   "execution_count": 1,
   "metadata": {},
   "outputs": [
    {
     "name": "stdout",
     "output_type": "stream",
     "text": [
      "1\n",
      "2\n"
     ]
    }
   ],
   "source": [
    "a = 1\n",
    "def f(a):\n",
    "    a = 2\n",
    "    return a\n",
    "b = f(a)\n",
    "print(a)\n",
    "print(b)"
   ]
  },
  {
   "cell_type": "code",
   "execution_count": 4,
   "metadata": {},
   "outputs": [
    {
     "name": "stdout",
     "output_type": "stream",
     "text": [
      "tensor([[[1]],\n",
      "\n",
      "        [[2]],\n",
      "\n",
      "        [[3]]])\n"
     ]
    },
    {
     "data": {
      "text/plain": [
       "tensor([[[1, 1, 1],\n",
       "         [1, 1, 1],\n",
       "         [1, 1, 1]],\n",
       "\n",
       "        [[2, 2, 2],\n",
       "         [2, 2, 2],\n",
       "         [2, 2, 2]],\n",
       "\n",
       "        [[3, 3, 3],\n",
       "         [3, 3, 3],\n",
       "         [3, 3, 3]]])"
      ]
     },
     "execution_count": 4,
     "metadata": {},
     "output_type": "execute_result"
    }
   ],
   "source": [
    "import torch\n",
    "a = torch.tensor([1,2,3])\n",
    "print(a.view(-1,1,1))\n",
    "a.view(-1,1,1).expand(-1,3,3)"
   ]
  },
  {
   "cell_type": "code",
   "execution_count": 11,
   "metadata": {},
   "outputs": [
    {
     "name": "stdout",
     "output_type": "stream",
     "text": [
      "[1. 2. 3. 4. 5. 6.]\n"
     ]
    }
   ],
   "source": [
    "import numpy as np\n",
    "a = np.array([])\n",
    "b = np.array([1,2,3])\n",
    "c = np.array([4,5,6])\n",
    "a = np.append(a,b[None])\n",
    "a = np.append(a,c[None])\n",
    "print(a)"
   ]
  }
 ],
 "metadata": {
  "kernelspec": {
   "display_name": "base",
   "language": "python",
   "name": "python3"
  },
  "language_info": {
   "codemirror_mode": {
    "name": "ipython",
    "version": 3
   },
   "file_extension": ".py",
   "mimetype": "text/x-python",
   "name": "python",
   "nbconvert_exporter": "python",
   "pygments_lexer": "ipython3",
   "version": "3.11.3"
  }
 },
 "nbformat": 4,
 "nbformat_minor": 2
}
